{
 "cells": [
  {
   "cell_type": "code",
   "execution_count": 1,
   "id": "91775e26",
   "metadata": {},
   "outputs": [],
   "source": [
    "from tensorflow.keras.models import Sequential\n",
    "from tensorflow.keras.layers import Dense\n",
    "from tensorflow.keras.layers import Convolution2D\n",
    "from tensorflow.keras.layers import MaxPooling2D\n",
    "from tensorflow.keras.layers import Flatten"
   ]
  },
  {
   "cell_type": "code",
   "execution_count": 2,
   "id": "2c067a9a",
   "metadata": {},
   "outputs": [],
   "source": [
    "from tensorflow.keras.preprocessing.image import ImageDataGenerator"
   ]
  },
  {
   "cell_type": "code",
   "execution_count": 3,
   "id": "440114c2",
   "metadata": {},
   "outputs": [],
   "source": [
    "train_data=ImageDataGenerator(rescale=1./255,shear_range=0.2,zoom_range=0.2,horizontal_flip=True,vertical_flip=True)\n",
    "test_data=ImageDataGenerator(rescale=1./255)"
   ]
  },
  {
   "cell_type": "code",
   "execution_count": 5,
   "id": "a3fd92c5",
   "metadata": {},
   "outputs": [
    {
     "name": "stdout",
     "output_type": "stream",
     "text": [
      "Found 3453 images belonging to 5 classes.\n",
      "Found 864 images belonging to 5 classes.\n"
     ]
    }
   ],
   "source": [
    "x_train=train_data.flow_from_directory(r\"D:\\Assignment 3\\dataset\\training\",target_size=(64,64),batch_size=32,class_mode=\"categorical\")\n",
    "x_test=test_data.flow_from_directory(r\"D:\\Assignment 3\\dataset\\testing\",target_size=(64,64),batch_size=32,class_mode=\"categorical\")"
   ]
  },
  {
   "cell_type": "code",
   "execution_count": 6,
   "id": "82f33cd8",
   "metadata": {},
   "outputs": [
    {
     "data": {
      "text/plain": [
       "{'daisy': 0, 'dandelion': 1, 'rose': 2, 'sunflower': 3, 'tulip': 4}"
      ]
     },
     "execution_count": 6,
     "metadata": {},
     "output_type": "execute_result"
    }
   ],
   "source": [
    "x_train.class_indices"
   ]
  },
  {
   "cell_type": "code",
   "execution_count": 7,
   "id": "fd0f5801",
   "metadata": {},
   "outputs": [],
   "source": [
    "model=Sequential()"
   ]
  },
  {
   "cell_type": "code",
   "execution_count": 8,
   "id": "5ed70150",
   "metadata": {},
   "outputs": [],
   "source": [
    "model.add(Convolution2D(64,(3,3),input_shape=(64,64,3),activation='relu'))"
   ]
  },
  {
   "cell_type": "code",
   "execution_count": 9,
   "id": "83a09d5e",
   "metadata": {},
   "outputs": [],
   "source": [
    "model.add(MaxPooling2D(pool_size=(3,3)))"
   ]
  },
  {
   "cell_type": "code",
   "execution_count": 10,
   "id": "14911ac3",
   "metadata": {},
   "outputs": [],
   "source": [
    "model.add(Flatten())"
   ]
  },
  {
   "cell_type": "code",
   "execution_count": 11,
   "id": "157216b8",
   "metadata": {},
   "outputs": [],
   "source": [
    "model.add(Dense(units=5,kernel_initializer=\"random_uniform\",activation=\"softmax\"))\n"
   ]
  },
  {
   "cell_type": "code",
   "execution_count": 12,
   "id": "9a6612e7",
   "metadata": {},
   "outputs": [],
   "source": [
    "model.compile(loss=\"categorical_crossentropy\",optimizer=\"adam\",metrics=[\"accuracy\"])"
   ]
  },
  {
   "cell_type": "code",
   "execution_count": 13,
   "id": "23622bcd",
   "metadata": {},
   "outputs": [
    {
     "name": "stderr",
     "output_type": "stream",
     "text": [
      "C:\\Users\\VINISHA\\AppData\\Local\\Temp\\ipykernel_15696\\1932184935.py:1: UserWarning: `Model.fit_generator` is deprecated and will be removed in a future version. Please use `Model.fit`, which supports generators.\n",
      "  model.fit_generator(x_train,steps_per_epoch=108,epochs=30,validation_data=x_test,validation_steps=27)\n"
     ]
    },
    {
     "name": "stdout",
     "output_type": "stream",
     "text": [
      "Epoch 1/30\n",
      "108/108 [==============================] - 20s 154ms/step - loss: 1.2909 - accuracy: 0.4596 - val_loss: 1.3326 - val_accuracy: 0.4606\n",
      "Epoch 2/30\n",
      "108/108 [==============================] - 14s 127ms/step - loss: 1.1291 - accuracy: 0.5372 - val_loss: 1.1166 - val_accuracy: 0.5903\n",
      "Epoch 3/30\n",
      "108/108 [==============================] - 14s 129ms/step - loss: 1.0583 - accuracy: 0.5815 - val_loss: 1.2399 - val_accuracy: 0.5370\n",
      "Epoch 4/30\n",
      "108/108 [==============================] - 14s 131ms/step - loss: 1.0218 - accuracy: 0.6082 - val_loss: 1.4827 - val_accuracy: 0.5428\n",
      "Epoch 5/30\n",
      "108/108 [==============================] - 14s 128ms/step - loss: 1.0167 - accuracy: 0.6102 - val_loss: 1.1632 - val_accuracy: 0.6042\n",
      "Epoch 6/30\n",
      "108/108 [==============================] - 14s 127ms/step - loss: 0.9515 - accuracy: 0.6316 - val_loss: 1.1341 - val_accuracy: 0.6065\n",
      "Epoch 7/30\n",
      "108/108 [==============================] - 14s 128ms/step - loss: 0.9282 - accuracy: 0.6423 - val_loss: 1.1126 - val_accuracy: 0.6273\n",
      "Epoch 8/30\n",
      "108/108 [==============================] - 14s 129ms/step - loss: 0.9295 - accuracy: 0.6368 - val_loss: 1.0629 - val_accuracy: 0.6262\n",
      "Epoch 9/30\n",
      "108/108 [==============================] - 14s 128ms/step - loss: 0.9012 - accuracy: 0.6470 - val_loss: 1.0944 - val_accuracy: 0.6111\n",
      "Epoch 10/30\n",
      "108/108 [==============================] - 14s 128ms/step - loss: 0.8746 - accuracy: 0.6707 - val_loss: 1.1048 - val_accuracy: 0.6424\n",
      "Epoch 11/30\n",
      "108/108 [==============================] - 14s 128ms/step - loss: 0.8660 - accuracy: 0.6664 - val_loss: 1.0644 - val_accuracy: 0.6366\n",
      "Epoch 12/30\n",
      "108/108 [==============================] - 14s 127ms/step - loss: 0.8620 - accuracy: 0.6661 - val_loss: 1.0370 - val_accuracy: 0.6308\n",
      "Epoch 13/30\n",
      "108/108 [==============================] - 14s 128ms/step - loss: 0.8367 - accuracy: 0.6852 - val_loss: 1.0059 - val_accuracy: 0.6609\n",
      "Epoch 14/30\n",
      "108/108 [==============================] - 14s 128ms/step - loss: 0.8270 - accuracy: 0.6809 - val_loss: 1.1491 - val_accuracy: 0.6123\n",
      "Epoch 15/30\n",
      "108/108 [==============================] - 14s 127ms/step - loss: 0.8013 - accuracy: 0.6881 - val_loss: 1.1684 - val_accuracy: 0.6470\n",
      "Epoch 16/30\n",
      "108/108 [==============================] - 14s 126ms/step - loss: 0.8024 - accuracy: 0.6979 - val_loss: 1.0457 - val_accuracy: 0.6400\n",
      "Epoch 17/30\n",
      "108/108 [==============================] - 14s 127ms/step - loss: 0.8007 - accuracy: 0.6878 - val_loss: 1.0896 - val_accuracy: 0.6238\n",
      "Epoch 18/30\n",
      "108/108 [==============================] - 14s 126ms/step - loss: 0.8067 - accuracy: 0.6945 - val_loss: 1.0448 - val_accuracy: 0.6470\n",
      "Epoch 19/30\n",
      "108/108 [==============================] - 14s 126ms/step - loss: 0.7856 - accuracy: 0.7017 - val_loss: 1.1586 - val_accuracy: 0.6366\n",
      "Epoch 20/30\n",
      "108/108 [==============================] - 14s 127ms/step - loss: 0.7807 - accuracy: 0.7063 - val_loss: 1.1584 - val_accuracy: 0.6331\n",
      "Epoch 21/30\n",
      "108/108 [==============================] - 14s 127ms/step - loss: 0.7654 - accuracy: 0.7069 - val_loss: 1.1003 - val_accuracy: 0.6343\n",
      "Epoch 22/30\n",
      "108/108 [==============================] - 14s 126ms/step - loss: 0.7705 - accuracy: 0.7066 - val_loss: 1.0699 - val_accuracy: 0.6308\n",
      "Epoch 23/30\n",
      "108/108 [==============================] - 14s 126ms/step - loss: 0.7543 - accuracy: 0.7130 - val_loss: 1.0264 - val_accuracy: 0.6562\n",
      "Epoch 24/30\n",
      "108/108 [==============================] - 14s 126ms/step - loss: 0.7322 - accuracy: 0.7211 - val_loss: 1.1199 - val_accuracy: 0.6562\n",
      "Epoch 25/30\n",
      "108/108 [==============================] - 14s 127ms/step - loss: 0.7501 - accuracy: 0.7156 - val_loss: 1.0864 - val_accuracy: 0.6505\n",
      "Epoch 26/30\n",
      "108/108 [==============================] - 14s 126ms/step - loss: 0.7507 - accuracy: 0.7217 - val_loss: 1.0432 - val_accuracy: 0.6771\n",
      "Epoch 27/30\n",
      "108/108 [==============================] - 14s 126ms/step - loss: 0.7345 - accuracy: 0.7257 - val_loss: 0.9750 - val_accuracy: 0.6887\n",
      "Epoch 28/30\n",
      "108/108 [==============================] - 14s 126ms/step - loss: 0.7425 - accuracy: 0.7194 - val_loss: 1.0254 - val_accuracy: 0.6690\n",
      "Epoch 29/30\n",
      "108/108 [==============================] - 14s 127ms/step - loss: 0.7298 - accuracy: 0.7286 - val_loss: 1.0621 - val_accuracy: 0.6447\n",
      "Epoch 30/30\n",
      "108/108 [==============================] - 14s 126ms/step - loss: 0.7153 - accuracy: 0.7318 - val_loss: 0.9710 - val_accuracy: 0.6701\n"
     ]
    },
    {
     "data": {
      "text/plain": [
       "<keras.callbacks.History at 0x1f75038ebb0>"
      ]
     },
     "execution_count": 13,
     "metadata": {},
     "output_type": "execute_result"
    }
   ],
   "source": [
    "model.fit_generator(x_train,steps_per_epoch=108,epochs=30,validation_data=x_test,validation_steps=27)"
   ]
  },
  {
   "cell_type": "code",
   "execution_count": 14,
   "id": "a25bed0d",
   "metadata": {},
   "outputs": [],
   "source": [
    "model.save(\"flower.h5\")"
   ]
  },
  {
   "cell_type": "code",
   "execution_count": 15,
   "id": "97afcdbc",
   "metadata": {},
   "outputs": [],
   "source": [
    "from tensorflow.keras.models import load_model\n",
    "from tensorflow.keras.preprocessing import image"
   ]
  },
  {
   "cell_type": "code",
   "execution_count": 16,
   "id": "8c0d9b9e",
   "metadata": {},
   "outputs": [],
   "source": [
    "import numpy as np"
   ]
  },
  {
   "cell_type": "code",
   "execution_count": 17,
   "id": "2705b164",
   "metadata": {},
   "outputs": [],
   "source": [
    "model=load_model(\"flower.h5\")"
   ]
  },
  {
   "cell_type": "code",
   "execution_count": 31,
   "id": "126033c5",
   "metadata": {},
   "outputs": [],
   "source": [
    "img=image.load_img(\"daisy 1.jpg\",target_size=(64,64))"
   ]
  },
  {
   "cell_type": "code",
   "execution_count": 32,
   "id": "6d0f65df",
   "metadata": {},
   "outputs": [
    {
     "data": {
      "image/png": "[encoded data removed]",
      "text/plain": [
       "<PIL.Image.Image image mode=RGB size=64x64 at 0x1F759C82580>"
      ]
     },
     "execution_count": 32,
     "metadata": {},
     "output_type": "execute_result"
    }
   ],
   "source": [
    "img"
   ]
  },
  {
   "cell_type": "code",
   "execution_count": 21,
   "id": "ce352003",
   "metadata": {},
   "outputs": [
    {
     "data": {
      "text/plain": [
       "PIL.Image.Image"
      ]
     },
     "execution_count": 21,
     "metadata": {},
     "output_type": "execute_result"
    }
   ],
   "source": [
    "type(img)"
   ]
  },
  {
   "cell_type": "code",
   "execution_count": 22,
   "id": "b7ff7a96",
   "metadata": {},
   "outputs": [],
   "source": [
    "x=image.img_to_array(img)"
   ]
  },
  {
   "cell_type": "code",
   "execution_count": 23,
   "id": "90505d6a",
   "metadata": {},
   "outputs": [
    {
     "data": {
      "text/plain": [
       "array([[[26., 38., 52.],\n",
       "        [28., 40., 54.],\n",
       "        [27., 39., 53.],\n",
       "        ...,\n",
       "        [19., 28., 45.],\n",
       "        [19., 26., 44.],\n",
       "        [18., 25., 43.]],\n",
       "\n",
       "       [[27., 39., 53.],\n",
       "        [28., 40., 54.],\n",
       "        [26., 38., 52.],\n",
       "        ...,\n",
       "        [19., 28., 45.],\n",
       "        [16., 23., 41.],\n",
       "        [17., 24., 42.]],\n",
       "\n",
       "       [[27., 39., 53.],\n",
       "        [28., 40., 54.],\n",
       "        [28., 40., 54.],\n",
       "        ...,\n",
       "        [19., 28., 45.],\n",
       "        [20., 27., 45.],\n",
       "        [16., 23., 41.]],\n",
       "\n",
       "       ...,\n",
       "\n",
       "       [[12., 17., 36.],\n",
       "        [12., 17., 36.],\n",
       "        [13., 18., 37.],\n",
       "        ...,\n",
       "        [11., 16., 35.],\n",
       "        [11., 16., 35.],\n",
       "        [11., 16., 35.]],\n",
       "\n",
       "       [[13., 18., 37.],\n",
       "        [12., 17., 36.],\n",
       "        [13., 18., 37.],\n",
       "        ...,\n",
       "        [ 9., 14., 33.],\n",
       "        [10., 15., 34.],\n",
       "        [10., 15., 34.]],\n",
       "\n",
       "       [[13., 18., 37.],\n",
       "        [13., 18., 37.],\n",
       "        [14., 19., 38.],\n",
       "        ...,\n",
       "        [10., 15., 34.],\n",
       "        [10., 15., 34.],\n",
       "        [ 9., 14., 33.]]], dtype=float32)"
      ]
     },
     "execution_count": 23,
     "metadata": {},
     "output_type": "execute_result"
    }
   ],
   "source": [
    "x"
   ]
  },
  {
   "cell_type": "code",
   "execution_count": 24,
   "id": "66cf1425",
   "metadata": {},
   "outputs": [
    {
     "data": {
      "text/plain": [
       "(64, 64, 3)"
      ]
     },
     "execution_count": 24,
     "metadata": {},
     "output_type": "execute_result"
    }
   ],
   "source": [
    "x.shape"
   ]
  },
  {
   "cell_type": "code",
   "execution_count": 25,
   "id": "7b2deaca",
   "metadata": {},
   "outputs": [],
   "source": [
    "x=np.expand_dims(x,axis=0)"
   ]
  },
  {
   "cell_type": "code",
   "execution_count": 26,
   "id": "fa766a9a",
   "metadata": {},
   "outputs": [
    {
     "name": "stdout",
     "output_type": "stream",
     "text": [
      "1/1 [==============================] - 3s 3s/step\n"
     ]
    }
   ],
   "source": [
    "pred_prob=model.predict(x)"
   ]
  },
  {
   "cell_type": "code",
   "execution_count": 27,
   "id": "b2141786",
   "metadata": {},
   "outputs": [
    {
     "data": {
      "text/plain": [
       "array([[1., 0., 0., 0., 0.]], dtype=float32)"
      ]
     },
     "execution_count": 27,
     "metadata": {},
     "output_type": "execute_result"
    }
   ],
   "source": [
    "pred_prob"
   ]
  },
  {
   "cell_type": "code",
   "execution_count": 28,
   "id": "19fb4611",
   "metadata": {},
   "outputs": [],
   "source": [
    "class_name=[\"Daisy\",\"Dandelion\",\"Rose\",\"Sunflower\",\"Tulip\"]\n",
    "pred_id=pred_prob.argmax(axis=1)[0]"
   ]
  },
  {
   "cell_type": "code",
   "execution_count": 30,
   "id": "795bd666",
   "metadata": {},
   "outputs": [
    {
     "data": {
      "text/plain": [
       "0"
      ]
     },
     "execution_count": 30,
     "metadata": {},
     "output_type": "execute_result"
    }
   ],
   "source": [
    "pred_id"
   ]
  },
  {
   "cell_type": "code",
   "execution_count": 34,
   "id": "500c861c",
   "metadata": {},
   "outputs": [
    {
     "name": "stdout",
     "output_type": "stream",
     "text": [
      "Predicted flower  Daisy\n"
     ]
    }
   ],
   "source": [
    "print(\"Predicted flower \",str(class_name[pred_id]))"
   ]
  },
  {
   "cell_type": "code",
   "execution_count": null,
   "id": "0d5394e3",
   "metadata": {},
   "outputs": [],
   "source": []
  }
 ],
 "metadata": {
  "kernelspec": {
   "display_name": "Python 3 (ipykernel)",
   "language": "python",
   "name": "python3"
  },
  "language_info": {
   "codemirror_mode": {
    "name": "ipython",
    "version": 3
   },
   "file_extension": ".py",
   "mimetype": "text/x-python",
   "name": "python",
   "nbconvert_exporter": "python",
   "pygments_lexer": "ipython3",
   "version": "3.9.12"
  }
 },
 "nbformat": 4,
 "nbformat_minor": 5
}
