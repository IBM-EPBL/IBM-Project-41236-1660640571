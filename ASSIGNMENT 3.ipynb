{
 "cells": [
  {
   "cell_type": "code",
   "execution_count": 1,
   "id": "5b21cf8b",
   "metadata": {},
   "outputs": [],
   "source": [
    "from tensorflow.keras.models import Sequential\n",
    "from tensorflow.keras.layers import Dense\n",
    "from tensorflow.keras.layers import Convolution2D\n",
    "from tensorflow.keras.layers import MaxPooling2D\n",
    "from tensorflow.keras.layers import Flatten"
   ]
  },
  {
   "cell_type": "code",
   "execution_count": 2,
   "id": "b4c9bfaf",
   "metadata": {},
   "outputs": [],
   "source": [
    "from tensorflow.keras.preprocessing.image import ImageDataGenerator"
   ]
  },
  {
   "cell_type": "code",
   "execution_count": 3,
   "id": "1102610b",
   "metadata": {},
   "outputs": [],
   "source": [
    "train_data=ImageDataGenerator(rescale=1./255,shear_range=0.2,zoom_range=0.2,horizontal_flip=True,vertical_flip=True)\n",
    "test_data=ImageDataGenerator(rescale=1./255)"
   ]
  },
  {
   "cell_type": "code",
   "execution_count": 4,
   "id": "f17559dd",
   "metadata": {},
   "outputs": [
    {
     "name": "stdout",
     "output_type": "stream",
     "text": [
      "Found 3453 images belonging to 5 classes.\n",
      "Found 864 images belonging to 5 classes.\n"
     ]
    }
   ],
   "source": [
    "x_train=train_data.flow_from_directory(r\"D:\\Assignment3\\data set\\training\",target_size=(64,64),batch_size=32,class_mode=\"categorical\")\n",
    "x_test=test_data.flow_from_directory(r\"D:\\Assignment3\\data set\\testing\",target_size=(64,64),batch_size=32,class_mode=\"categorical\")"
   ]
  },
  {
   "cell_type": "code",
   "execution_count": 5,
   "id": "a0718105",
   "metadata": {},
   "outputs": [
    {
     "data": {
      "text/plain": [
       "{'daisy': 0, 'dandelion': 1, 'rose': 2, 'sunflower': 3, 'tulip': 4}"
      ]
     },
     "execution_count": 5,
     "metadata": {},
     "output_type": "execute_result"
    }
   ],
   "source": [
    "x_train.class_indices"
   ]
  },
  {
   "cell_type": "code",
   "execution_count": 6,
   "id": "b4cc4d5b",
   "metadata": {},
   "outputs": [],
   "source": [
    "model=Sequential()"
   ]
  },
  {
   "cell_type": "code",
   "execution_count": 7,
   "id": "260ca573",
   "metadata": {},
   "outputs": [],
   "source": [
    "model.add(Convolution2D(64,(3,3),input_shape=(64,64,3),activation='relu'))"
   ]
  },
  {
   "cell_type": "code",
   "execution_count": 8,
   "id": "5f853917",
   "metadata": {},
   "outputs": [],
   "source": [
    "model.add(MaxPooling2D(pool_size=(3,3)))"
   ]
  },
  {
   "cell_type": "code",
   "execution_count": 9,
   "id": "4519714e",
   "metadata": {},
   "outputs": [],
   "source": [
    "model.add(Flatten())"
   ]
  },
  {
   "cell_type": "code",
   "execution_count": 10,
   "id": "2d894838",
   "metadata": {},
   "outputs": [],
   "source": [
    "model.add(Dense(units=5,kernel_initializer=\"random_uniform\",activation=\"softmax\"))"
   ]
  },
  {
   "cell_type": "code",
   "execution_count": 11,
   "id": "7c05105a",
   "metadata": {},
   "outputs": [],
   "source": [
    "model.compile(loss=\"categorical_crossentropy\",optimizer=\"adam\",metrics=[\"accuracy\"])"
   ]
  },
  {
   "cell_type": "code",
   "execution_count": 12,
   "id": "e52c68d6",
   "metadata": {},
   "outputs": [
    {
     "name": "stderr",
     "output_type": "stream",
     "text": [
      "C:\\Users\\God\\AppData\\Local\\Temp\\ipykernel_1308\\1932184935.py:1: UserWarning: `Model.fit_generator` is deprecated and will be removed in a future version. Please use `Model.fit`, which supports generators.\n",
      "  model.fit_generator(x_train,steps_per_epoch=108,epochs=30,validation_data=x_test,validation_steps=27)\n"
     ]
    },
    {
     "name": "stdout",
     "output_type": "stream",
     "text": [
      "Epoch 1/30\n",
      "108/108 [==============================] - 91s 829ms/step - loss: 1.2978 - accuracy: 0.4498 - val_loss: 1.3923 - val_accuracy: 0.4676\n",
      "Epoch 2/30\n",
      "108/108 [==============================] - 85s 787ms/step - loss: 1.0853 - accuracy: 0.5636 - val_loss: 1.2768 - val_accuracy: 0.5162\n",
      "Epoch 3/30\n",
      "108/108 [==============================] - 90s 839ms/step - loss: 1.0010 - accuracy: 0.6125 - val_loss: 1.2850 - val_accuracy: 0.5382\n",
      "Epoch 4/30\n",
      "108/108 [==============================] - 83s 774ms/step - loss: 0.9780 - accuracy: 0.6108 - val_loss: 1.2401 - val_accuracy: 0.5359\n",
      "Epoch 5/30\n",
      "108/108 [==============================] - 58s 534ms/step - loss: 0.9748 - accuracy: 0.6180 - val_loss: 1.2487 - val_accuracy: 0.5625\n",
      "Epoch 6/30\n",
      "108/108 [==============================] - 42s 391ms/step - loss: 0.9285 - accuracy: 0.6337 - val_loss: 1.2574 - val_accuracy: 0.5567\n",
      "Epoch 7/30\n",
      "108/108 [==============================] - 49s 455ms/step - loss: 0.8854 - accuracy: 0.6617 - val_loss: 1.3697 - val_accuracy: 0.5694\n",
      "Epoch 8/30\n",
      "108/108 [==============================] - 42s 393ms/step - loss: 0.8841 - accuracy: 0.6586 - val_loss: 1.2738 - val_accuracy: 0.5671\n",
      "Epoch 9/30\n",
      "108/108 [==============================] - 28s 258ms/step - loss: 0.8801 - accuracy: 0.6525 - val_loss: 1.2392 - val_accuracy: 0.5903\n",
      "Epoch 10/30\n",
      "108/108 [==============================] - 29s 264ms/step - loss: 0.8322 - accuracy: 0.6829 - val_loss: 1.3431 - val_accuracy: 0.5637\n",
      "Epoch 11/30\n",
      "108/108 [==============================] - 37s 345ms/step - loss: 0.8284 - accuracy: 0.6890 - val_loss: 1.2945 - val_accuracy: 0.5764\n",
      "Epoch 12/30\n",
      "108/108 [==============================] - 35s 324ms/step - loss: 0.8218 - accuracy: 0.6956 - val_loss: 1.2569 - val_accuracy: 0.6007\n",
      "Epoch 13/30\n",
      "108/108 [==============================] - 36s 332ms/step - loss: 0.8071 - accuracy: 0.6971 - val_loss: 1.2746 - val_accuracy: 0.6030\n",
      "Epoch 14/30\n",
      "108/108 [==============================] - 28s 261ms/step - loss: 0.7980 - accuracy: 0.7052 - val_loss: 1.2025 - val_accuracy: 0.6007\n",
      "Epoch 15/30\n",
      "108/108 [==============================] - 36s 332ms/step - loss: 0.7753 - accuracy: 0.7014 - val_loss: 1.2336 - val_accuracy: 0.5926\n",
      "Epoch 16/30\n",
      "108/108 [==============================] - 32s 292ms/step - loss: 0.7810 - accuracy: 0.7040 - val_loss: 1.2764 - val_accuracy: 0.6088\n",
      "Epoch 17/30\n",
      "108/108 [==============================] - 37s 343ms/step - loss: 0.7748 - accuracy: 0.7081 - val_loss: 1.4849 - val_accuracy: 0.5729\n",
      "Epoch 18/30\n",
      "108/108 [==============================] - 36s 331ms/step - loss: 0.7616 - accuracy: 0.7107 - val_loss: 1.2580 - val_accuracy: 0.6111\n",
      "Epoch 19/30\n",
      "108/108 [==============================] - 33s 307ms/step - loss: 0.7509 - accuracy: 0.7176 - val_loss: 1.4798 - val_accuracy: 0.5833\n",
      "Epoch 20/30\n",
      "108/108 [==============================] - 32s 297ms/step - loss: 0.7546 - accuracy: 0.7118 - val_loss: 1.3223 - val_accuracy: 0.5995\n",
      "Epoch 21/30\n",
      "108/108 [==============================] - 29s 264ms/step - loss: 0.7477 - accuracy: 0.7165 - val_loss: 1.2368 - val_accuracy: 0.5903\n",
      "Epoch 22/30\n",
      "108/108 [==============================] - 28s 263ms/step - loss: 0.7209 - accuracy: 0.7263 - val_loss: 1.3286 - val_accuracy: 0.6215\n",
      "Epoch 23/30\n",
      "108/108 [==============================] - 29s 265ms/step - loss: 0.7127 - accuracy: 0.7347 - val_loss: 1.3512 - val_accuracy: 0.6181\n",
      "Epoch 24/30\n",
      "108/108 [==============================] - 29s 265ms/step - loss: 0.7107 - accuracy: 0.7420 - val_loss: 1.4291 - val_accuracy: 0.6007\n",
      "Epoch 25/30\n",
      "108/108 [==============================] - 29s 265ms/step - loss: 0.6976 - accuracy: 0.7359 - val_loss: 1.2833 - val_accuracy: 0.6134\n",
      "Epoch 26/30\n",
      "108/108 [==============================] - 29s 264ms/step - loss: 0.7073 - accuracy: 0.7301 - val_loss: 1.2865 - val_accuracy: 0.6215\n",
      "Epoch 27/30\n",
      "108/108 [==============================] - 29s 264ms/step - loss: 0.7024 - accuracy: 0.7350 - val_loss: 1.3978 - val_accuracy: 0.6007\n",
      "Epoch 28/30\n",
      "108/108 [==============================] - 29s 267ms/step - loss: 0.6969 - accuracy: 0.7376 - val_loss: 1.4571 - val_accuracy: 0.5938\n",
      "Epoch 29/30\n",
      "108/108 [==============================] - 29s 264ms/step - loss: 0.7071 - accuracy: 0.7289 - val_loss: 1.2767 - val_accuracy: 0.6134\n",
      "Epoch 30/30\n",
      "108/108 [==============================] - 29s 270ms/step - loss: 0.6753 - accuracy: 0.7437 - val_loss: 1.4480 - val_accuracy: 0.6042\n"
     ]
    },
    {
     "data": {
      "text/plain": [
       "<keras.callbacks.History at 0x26b94931e80>"
      ]
     },
     "execution_count": 12,
     "metadata": {},
     "output_type": "execute_result"
    }
   ],
   "source": [
    "model.fit_generator(x_train,steps_per_epoch=108,epochs=30,validation_data=x_test,validation_steps=27)"
   ]
  },
  {
   "cell_type": "code",
   "execution_count": 13,
   "id": "1027a787",
   "metadata": {},
   "outputs": [],
   "source": [
    "model.save(\"flower.h5\")"
   ]
  },
  {
   "cell_type": "code",
   "execution_count": 14,
   "id": "9b4d69f0",
   "metadata": {},
   "outputs": [],
   "source": [
    "from tensorflow.keras.models import load_model\n",
    "from tensorflow.keras.preprocessing import image"
   ]
  },
  {
   "cell_type": "code",
   "execution_count": 15,
   "id": "8d8d1bca",
   "metadata": {},
   "outputs": [],
   "source": [
    "import numpy as np"
   ]
  },
  {
   "cell_type": "code",
   "execution_count": 16,
   "id": "115eb583",
   "metadata": {},
   "outputs": [],
   "source": [
    "model=load_model(\"flower.h5\")"
   ]
  },
  {
   "cell_type": "code",
   "execution_count": 30,
   "id": "dce966c0",
   "metadata": {},
   "outputs": [],
   "source": [
    "img=image.load_img(\"daisy 1.jpg\",target_size=(64,64))"
   ]
  },
  {
   "cell_type": "code",
   "execution_count": 31,
   "id": "3cc4df57",
   "metadata": {},
   "outputs": [
    {
     "data": {
      "image/png": "[encoded data removed]",
      "text/plain": [
       "<PIL.Image.Image image mode=RGB size=64x64 at 0x26B979B5C70>"
      ]
     },
     "execution_count": 31,
     "metadata": {},
     "output_type": "execute_result"
    }
   ],
   "source": [
    "img"
   ]
  },
  {
   "cell_type": "code",
   "execution_count": 20,
   "id": "02be4c8d",
   "metadata": {},
   "outputs": [
    {
     "data": {
      "text/plain": [
       "PIL.Image.Image"
      ]
     },
     "execution_count": 20,
     "metadata": {},
     "output_type": "execute_result"
    }
   ],
   "source": [
    "type(img)"
   ]
  },
  {
   "cell_type": "code",
   "execution_count": 21,
   "id": "9f7ddb27",
   "metadata": {},
   "outputs": [],
   "source": [
    "x=image.img_to_array(img)"
   ]
  },
  {
   "cell_type": "code",
   "execution_count": 22,
   "id": "107dc837",
   "metadata": {},
   "outputs": [
    {
     "data": {
      "text/plain": [
       "array([[[ 33.,  98.,  18.],\n",
       "        [ 25., 100.,  15.],\n",
       "        [ 12.,  85.,   3.],\n",
       "        ...,\n",
       "        [ 40.,  81.,  15.],\n",
       "        [ 39.,  78.,  13.],\n",
       "        [ 25.,  82.,   5.]],\n",
       "\n",
       "       [[ 35., 101.,  14.],\n",
       "        [ 28.,  97.,   8.],\n",
       "        [ 18.,  93.,   2.],\n",
       "        ...,\n",
       "        [ 33.,  89.,  16.],\n",
       "        [ 41.,  82.,  14.],\n",
       "        [ 30.,  83.,   3.]],\n",
       "\n",
       "       [[ 26.,  85.,   5.],\n",
       "        [ 22.,  92.,   6.],\n",
       "        [ 18.,  91.,   2.],\n",
       "        ...,\n",
       "        [ 29.,  94.,  14.],\n",
       "        [ 29.,  92.,  13.],\n",
       "        [ 31.,  90.,   6.]],\n",
       "\n",
       "       ...,\n",
       "\n",
       "       [[  9.,  39.,   1.],\n",
       "        [ 12.,  52.,   2.],\n",
       "        [ 23.,  61.,   2.],\n",
       "        ...,\n",
       "        [  5.,  58.,   2.],\n",
       "        [  4.,  57.,   5.],\n",
       "        [  7.,  44.,   1.]],\n",
       "\n",
       "       [[  8.,  38.,   2.],\n",
       "        [ 15.,  43.,   2.],\n",
       "        [ 33.,  68.,   2.],\n",
       "        ...,\n",
       "        [  7.,  58.,   2.],\n",
       "        [ 12.,  61.,   5.],\n",
       "        [  8.,  51.,   6.]],\n",
       "\n",
       "       [[ 23.,  47.,   0.],\n",
       "        [ 27.,  49.,   2.],\n",
       "        [ 22.,  62.,   0.],\n",
       "        ...,\n",
       "        [  5.,  48.,   2.],\n",
       "        [ 16.,  48.,   9.],\n",
       "        [  9.,  53.,   4.]]], dtype=float32)"
      ]
     },
     "execution_count": 22,
     "metadata": {},
     "output_type": "execute_result"
    }
   ],
   "source": [
    "x"
   ]
  },
  {
   "cell_type": "code",
   "execution_count": 23,
   "id": "6d8ba4eb",
   "metadata": {},
   "outputs": [
    {
     "data": {
      "text/plain": [
       "(64, 64, 3)"
      ]
     },
     "execution_count": 23,
     "metadata": {},
     "output_type": "execute_result"
    }
   ],
   "source": [
    "x.shape"
   ]
  },
  {
   "cell_type": "code",
   "execution_count": 24,
   "id": "09eabf83",
   "metadata": {},
   "outputs": [],
   "source": [
    "x=np.expand_dims(x,axis=0)"
   ]
  },
  {
   "cell_type": "code",
   "execution_count": 25,
   "id": "24f3da5e",
   "metadata": {},
   "outputs": [
    {
     "name": "stdout",
     "output_type": "stream",
     "text": [
      "1/1 [==============================] - 1s 1s/step\n"
     ]
    }
   ],
   "source": [
    "pred_prob=model.predict(x)"
   ]
  },
  {
   "cell_type": "code",
   "execution_count": 26,
   "id": "dfe87e82",
   "metadata": {},
   "outputs": [
    {
     "data": {
      "text/plain": [
       "array([[1., 0., 0., 0., 0.]], dtype=float32)"
      ]
     },
     "execution_count": 26,
     "metadata": {},
     "output_type": "execute_result"
    }
   ],
   "source": [
    "pred_prob"
   ]
  },
  {
   "cell_type": "code",
   "execution_count": 27,
   "id": "f0a975dd",
   "metadata": {},
   "outputs": [],
   "source": [
    "class_name=[\"Daisy\",\"Dandelion\",\"Rose\",\"Sunflower\",\"Tulip\"]\n",
    "pred_id=pred_prob.argmax(axis=1)[0]"
   ]
  },
  {
   "cell_type": "code",
   "execution_count": 32,
   "id": "df3d9aa8",
   "metadata": {},
   "outputs": [
    {
     "data": {
      "text/plain": [
       "0"
      ]
     },
     "execution_count": 32,
     "metadata": {},
     "output_type": "execute_result"
    }
   ],
   "source": [
    "pred_id"
   ]
  },
  {
   "cell_type": "code",
   "execution_count": 33,
   "id": "96c15528",
   "metadata": {},
   "outputs": [
    {
     "name": "stdout",
     "output_type": "stream",
     "text": [
      "Predicted flower  Daisy\n"
     ]
    }
   ],
   "source": [
    "print(\"Predicted flower \",str(class_name[pred_id]))"
   ]
  },
  {
   "cell_type": "code",
   "execution_count": null,
   "id": "b2ee3810",
   "metadata": {},
   "outputs": [],
   "source": []
  }
 ],
 "metadata": {
  "kernelspec": {
   "display_name": "Python 3 (ipykernel)",
   "language": "python",
   "name": "python3"
  },
  "language_info": {
   "codemirror_mode": {
    "name": "ipython",
    "version": 3
   },
   "file_extension": ".py",
   "mimetype": "text/x-python",
   "name": "python",
   "nbconvert_exporter": "python",
   "pygments_lexer": "ipython3",
   "version": "3.9.12"
  }
 },
 "nbformat": 4,
 "nbformat_minor": 5
}
